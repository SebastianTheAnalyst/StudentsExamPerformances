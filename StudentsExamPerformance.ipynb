{
 "cells": [
  {
   "cell_type": "code",
   "execution_count": 1,
   "metadata": {},
   "outputs": [],
   "source": [
    "import pandas as pd\n",
    "import matplotlib.pyplot as plt"
   ]
  },
  {
   "cell_type": "code",
   "execution_count": 2,
   "metadata": {},
   "outputs": [],
   "source": [
    "df=pd.read_csv(\"/Users/sebastiangurgel/Desktop/Jannik Python Project/StudentsPerformance.csv\")"
   ]
  },
  {
   "cell_type": "code",
   "execution_count": 3,
   "metadata": {},
   "outputs": [
    {
     "data": {
      "text/html": [
       "<div>\n",
       "<style scoped>\n",
       "    .dataframe tbody tr th:only-of-type {\n",
       "        vertical-align: middle;\n",
       "    }\n",
       "\n",
       "    .dataframe tbody tr th {\n",
       "        vertical-align: top;\n",
       "    }\n",
       "\n",
       "    .dataframe thead th {\n",
       "        text-align: right;\n",
       "    }\n",
       "</style>\n",
       "<table border=\"1\" class=\"dataframe\">\n",
       "  <thead>\n",
       "    <tr style=\"text-align: right;\">\n",
       "      <th></th>\n",
       "      <th>gender</th>\n",
       "      <th>race/ethnicity</th>\n",
       "      <th>parental level of education</th>\n",
       "      <th>lunch</th>\n",
       "      <th>test preparation course</th>\n",
       "      <th>math score</th>\n",
       "      <th>reading score</th>\n",
       "      <th>writing score</th>\n",
       "    </tr>\n",
       "  </thead>\n",
       "  <tbody>\n",
       "    <tr>\n",
       "      <th>0</th>\n",
       "      <td>female</td>\n",
       "      <td>group B</td>\n",
       "      <td>bachelor's degree</td>\n",
       "      <td>standard</td>\n",
       "      <td>none</td>\n",
       "      <td>72</td>\n",
       "      <td>72</td>\n",
       "      <td>74</td>\n",
       "    </tr>\n",
       "    <tr>\n",
       "      <th>1</th>\n",
       "      <td>female</td>\n",
       "      <td>group C</td>\n",
       "      <td>some college</td>\n",
       "      <td>standard</td>\n",
       "      <td>completed</td>\n",
       "      <td>69</td>\n",
       "      <td>90</td>\n",
       "      <td>88</td>\n",
       "    </tr>\n",
       "    <tr>\n",
       "      <th>2</th>\n",
       "      <td>female</td>\n",
       "      <td>group B</td>\n",
       "      <td>master's degree</td>\n",
       "      <td>standard</td>\n",
       "      <td>none</td>\n",
       "      <td>90</td>\n",
       "      <td>95</td>\n",
       "      <td>93</td>\n",
       "    </tr>\n",
       "    <tr>\n",
       "      <th>3</th>\n",
       "      <td>male</td>\n",
       "      <td>group A</td>\n",
       "      <td>associate's degree</td>\n",
       "      <td>free/reduced</td>\n",
       "      <td>none</td>\n",
       "      <td>47</td>\n",
       "      <td>57</td>\n",
       "      <td>44</td>\n",
       "    </tr>\n",
       "    <tr>\n",
       "      <th>4</th>\n",
       "      <td>male</td>\n",
       "      <td>group C</td>\n",
       "      <td>some college</td>\n",
       "      <td>standard</td>\n",
       "      <td>none</td>\n",
       "      <td>76</td>\n",
       "      <td>78</td>\n",
       "      <td>75</td>\n",
       "    </tr>\n",
       "  </tbody>\n",
       "</table>\n",
       "</div>"
      ],
      "text/plain": [
       "   gender race/ethnicity parental level of education         lunch  \\\n",
       "0  female        group B           bachelor's degree      standard   \n",
       "1  female        group C                some college      standard   \n",
       "2  female        group B             master's degree      standard   \n",
       "3    male        group A          associate's degree  free/reduced   \n",
       "4    male        group C                some college      standard   \n",
       "\n",
       "  test preparation course  math score  reading score  writing score  \n",
       "0                    none          72             72             74  \n",
       "1               completed          69             90             88  \n",
       "2                    none          90             95             93  \n",
       "3                    none          47             57             44  \n",
       "4                    none          76             78             75  "
      ]
     },
     "execution_count": 3,
     "metadata": {},
     "output_type": "execute_result"
    }
   ],
   "source": [
    "df.head()   \n"
   ]
  },
  {
   "attachments": {},
   "cell_type": "markdown",
   "metadata": {},
   "source": [
    "QUESTIONS\n",
    "\n",
    "1) What is the portion of male and female in the dataset\n",
    "2) What is the average math score for a. all b. female c. male\n",
    "3) Plot the math score distribution for all, male, female\n",
    "4) What is std of the math score distribution for all, male, female\n",
    "5) What is the average math score for all, male, female with respect to test preparation is compiled\n",
    "6) Plot the math score distribution for all, male, female with respect to test preparation is compiled\n"
   ]
  },
  {
   "cell_type": "markdown",
   "metadata": {},
   "source": []
  },
  {
   "cell_type": "code",
   "execution_count": 4,
   "metadata": {},
   "outputs": [
    {
     "data": {
      "text/plain": [
       "gender                         1000\n",
       "race/ethnicity                 1000\n",
       "parental level of education    1000\n",
       "lunch                          1000\n",
       "test preparation course        1000\n",
       "math score                     1000\n",
       "reading score                  1000\n",
       "writing score                  1000\n",
       "dtype: int64"
      ]
     },
     "execution_count": 4,
     "metadata": {},
     "output_type": "execute_result"
    }
   ],
   "source": [
    "df.count()"
   ]
  },
  {
   "cell_type": "code",
   "execution_count": 5,
   "metadata": {},
   "outputs": [
    {
     "data": {
      "text/plain": [
       "1000"
      ]
     },
     "execution_count": 5,
     "metadata": {},
     "output_type": "execute_result"
    }
   ],
   "source": [
    "total_count=len(df)\n",
    "total_count"
   ]
  },
  {
   "cell_type": "code",
   "execution_count": 6,
   "metadata": {},
   "outputs": [
    {
     "name": "stdout",
     "output_type": "stream",
     "text": [
      "men_count: 482\n",
      "female_count: 518\n"
     ]
    }
   ],
   "source": [
    "men_count=len(df[df[\"gender\"]== \"male\"])\n",
    "female_count=len(df[df[\"gender\"]== \"female\"])\n",
    "print(\"men_count:\",men_count)\n",
    "print(\"female_count:\",female_count)"
   ]
  },
  {
   "cell_type": "code",
   "execution_count": 7,
   "metadata": {},
   "outputs": [
    {
     "name": "stdout",
     "output_type": "stream",
     "text": [
      "proportion_men: 0.482\n",
      "proportion_female: 0.518\n"
     ]
    }
   ],
   "source": [
    "proportion_men=men_count/total_count\n",
    "proportion_female=female_count/total_count\n",
    "print(\"proportion_men:\",proportion_men)\n",
    "print(\"proportion_female:\",proportion_female)"
   ]
  },
  {
   "attachments": {},
   "cell_type": "markdown",
   "metadata": {},
   "source": [
    "______"
   ]
  },
  {
   "cell_type": "code",
   "execution_count": null,
   "metadata": {},
   "outputs": [],
   "source": [
    "\n"
   ]
  },
  {
   "cell_type": "code",
   "execution_count": 8,
   "metadata": {},
   "outputs": [
    {
     "name": "stdout",
     "output_type": "stream",
     "text": [
      "avg_ms_all: 66.089\n",
      "avg_ms_men: 68.72821576763485\n",
      "avg_ms_female: 63.633204633204635\n"
     ]
    }
   ],
   "source": [
    "avg_ms_all=df[\"math score\"].mean()\n",
    "avg_ms_men=df[df[\"gender\"]==\"male\"][\"math score\"].mean()\n",
    "avg_ms_female=df[df[\"gender\"]==\"female\"][\"math score\"].mean()\n",
    "print(\"avg_ms_all:\",avg_ms_all)\n",
    "print(\"avg_ms_men:\",avg_ms_men)\n",
    "print(\"avg_ms_female:\",avg_ms_female)\n"
   ]
  },
  {
   "attachments": {},
   "cell_type": "markdown",
   "metadata": {},
   "source": [
    "---"
   ]
  },
  {
   "cell_type": "code",
   "execution_count": 9,
   "metadata": {},
   "outputs": [
    {
     "data": {
      "image/png": "[encoded data removed]",
      "text/plain": [
       "<Figure size 640x480 with 1 Axes>"
      ]
     },
     "metadata": {},
     "output_type": "display_data"
    }
   ],
   "source": [
    "plt.hist(df[\"math score\"], label= \"ALL\")\n",
    "plt.legend()\n",
    "plt.show()\n"
   ]
  },
  {
   "cell_type": "code",
   "execution_count": 10,
   "metadata": {},
   "outputs": [
    {
     "data": {
      "image/png": "[encoded data removed]",
      "text/plain": [
       "<Figure size 640x480 with 1 Axes>"
      ]
     },
     "metadata": {},
     "output_type": "display_data"
    }
   ],
   "source": [
    "plt.hist(df[df[\"gender\"]==\"male\"][\"math score\"], label= \"male\")\n",
    "plt.legend()\n",
    "plt.show()"
   ]
  },
  {
   "cell_type": "code",
   "execution_count": 11,
   "metadata": {},
   "outputs": [
    {
     "data": {
      "image/png": "[encoded data removed]",
      "text/plain": [
       "<Figure size 640x480 with 1 Axes>"
      ]
     },
     "metadata": {},
     "output_type": "display_data"
    }
   ],
   "source": [
    "plt.hist(df[df[\"gender\"]==\"male\"][\"math score\"], label= \"female\")\n",
    "plt.legend()\n",
    "plt.show()"
   ]
  },
  {
   "attachments": {},
   "cell_type": "markdown",
   "metadata": {},
   "source": [
    "___"
   ]
  },
  {
   "cell_type": "code",
   "execution_count": 12,
   "metadata": {},
   "outputs": [
    {
     "name": "stdout",
     "output_type": "stream",
     "text": [
      "std_ms_all: 15.163080096009468\n",
      "std_ms_men: 14.35627719636238\n",
      "std_ms_female: 15.49145324233953\n"
     ]
    }
   ],
   "source": [
    "std_ms_all=df[\"math score\"].std()\n",
    "std_ms_men=df[df[\"gender\"]==\"male\"][\"math score\"].std()\n",
    "std_ms_female=df[df[\"gender\"]==\"female\"][\"math score\"].std()\n",
    "print(\"std_ms_all:\",std_ms_all)\n",
    "print(\"std_ms_men:\",std_ms_men)\n",
    "print(\"std_ms_female:\",std_ms_female)"
   ]
  },
  {
   "attachments": {},
   "cell_type": "markdown",
   "metadata": {},
   "source": [
    "---"
   ]
  },
  {
   "cell_type": "code",
   "execution_count": 13,
   "metadata": {},
   "outputs": [
    {
     "name": "stdout",
     "output_type": "stream",
     "text": [
      "avg_all_test_completed: 69.69553072625699\n",
      "avg_all_test_none: 64.0778816199377\n",
      "avg_men_test_completed: 72.33908045977012\n",
      "avg_men_test_none: 66.68831168831169\n",
      "avg_female__test_completed: 67.19565217391305\n",
      "avg_female_test_none: 61.67065868263473\n"
     ]
    }
   ],
   "source": [
    "# What is the average math score for all, male, female with respect to test preparation is compiled\n",
    "avg_all_test_completed=df[df[\"test preparation course\"]==\"completed\"][\"math score\"].mean()\n",
    "avg_all_test_none=df[df[\"test preparation course\"]==\"none\"][\"math score\"].mean()\n",
    "print(\"avg_all_test_completed:\",avg_all_test_completed)\n",
    "print(\"avg_all_test_none:\",avg_all_test_none)\n",
    "avg_men_test_completed=df[(df[\"test preparation course\"]==\"completed\")&(df[\"gender\"]==\"male\")][\"math score\"].mean()\n",
    "avg_men_test_none=df[(df[\"test preparation course\"]==\"none\")&(df[\"gender\"]==\"male\")][\"math score\"].mean()\n",
    "print(\"avg_men_test_completed:\",avg_men_test_completed)\n",
    "print(\"avg_men_test_none:\",avg_men_test_none)\n",
    "avg_female_test_completed=df[(df[\"test preparation course\"]==\"completed\")&(df[\"gender\"]==\"female\")][\"math score\"].mean()\n",
    "avg_female_test_none=df[(df[\"test preparation course\"]==\"none\")&(df[\"gender\"]==\"female\")][\"math score\"].mean()\n",
    "print(\"avg_female__test_completed:\",avg_female_test_completed)\n",
    "print(\"avg_female_test_none:\",avg_female_test_none)"
   ]
  },
  {
   "attachments": {},
   "cell_type": "markdown",
   "metadata": {},
   "source": [
    "___"
   ]
  },
  {
   "cell_type": "code",
   "execution_count": 14,
   "metadata": {},
   "outputs": [
    {
     "data": {
      "image/png": "[encoded data removed]",
      "text/plain": [
       "<Figure size 640x480 with 1 Axes>"
      ]
     },
     "metadata": {},
     "output_type": "display_data"
    }
   ],
   "source": [
    "#Plot the math score distribution for all, male, female with respect to test preparation is compiled\n",
    "plt.hist(df[df[\"test preparation course\"]==\"none\"][\"math score\"], label= \"All-None\")\n",
    "plt.hist(df[df[\"test preparation course\"]==\"completed\"][\"math score\"], label= \"ALL-completed\")\n",
    "plt.legend()\n",
    "plt.show()"
   ]
  },
  {
   "cell_type": "code",
   "execution_count": 15,
   "metadata": {},
   "outputs": [
    {
     "data": {
      "image/png": "[encoded data removed]",
      "text/plain": [
       "<Figure size 640x480 with 1 Axes>"
      ]
     },
     "metadata": {},
     "output_type": "display_data"
    }
   ],
   "source": [
    "plt.hist(df[(df[\"test preparation course\"]==\"none\")&(df[\"gender\"]==\"male\")][\"math score\"] , label= \"Male-None\")\n",
    "plt.hist(df[(df[\"test preparation course\"]==\"completed\")&(df[\"gender\"]==\"male\")][\"math score\"] , label= \"Male-Completed\")\n",
    "plt.legend()\n",
    "plt.show()"
   ]
  },
  {
   "cell_type": "code",
   "execution_count": 16,
   "metadata": {},
   "outputs": [
    {
     "data": {
      "image/png": "[encoded data removed]",
      "text/plain": [
       "<Figure size 640x480 with 1 Axes>"
      ]
     },
     "metadata": {},
     "output_type": "display_data"
    }
   ],
   "source": [
    "plt.hist(df[(df[\"test preparation course\"]==\"none\")&(df[\"gender\"]==\"female\")][\"math score\"] , label= \"Female-None\")\n",
    "plt.hist(df[(df[\"test preparation course\"]==\"completed\")&(df[\"gender\"]==\"female\")][\"math score\"] , label= \"Female-Completed\")\n",
    "plt.legend()\n",
    "plt.show()"
   ]
  },
  {
   "cell_type": "code",
   "execution_count": null,
   "metadata": {},
   "outputs": [],
   "source": []
  }
 ],
 "metadata": {
  "kernelspec": {
   "display_name": "sebaenv1",
   "language": "python",
   "name": "python3"
  },
  "language_info": {
   "codemirror_mode": {
    "name": "ipython",
    "version": 3
   },
   "file_extension": ".py",
   "mimetype": "text/x-python",
   "name": "python",
   "nbconvert_exporter": "python",
   "pygments_lexer": "ipython3",
   "version": "3.10.9"
  },
  "orig_nbformat": 4
 },
 "nbformat": 4,
 "nbformat_minor": 2
}
